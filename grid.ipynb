{
 "cells": [
  {
   "cell_type": "code",
   "execution_count": 153,
   "id": "f28303e0",
   "metadata": {},
   "outputs": [],
   "source": [
    "import numpy as np\n",
    "import heapq\n",
    "import matplotlib.pyplot as plt\n",
    "from matplotlib import colors"
   ]
  },
  {
   "cell_type": "markdown",
   "id": "fa88d5b3",
   "metadata": {},
   "source": [
    "# 1. Make map"
   ]
  },
  {
   "cell_type": "code",
   "execution_count": 56,
   "id": "af300691",
   "metadata": {},
   "outputs": [],
   "source": [
    "def make_map(size):\n",
    "    direction = np.array([[1, 0], [0, 1]])\n",
    "    direction2 = np.array([[1, 0], [0, 1], [-1, 0], [0, -1],\n",
    "                           [1, 1], [-1, 1], [1, -1], [-1, -1]])\n",
    "    m, n = size\n",
    "    grid = np.zeros((m, n), dtype=int)\n",
    "\n",
    "    present = np.array([0, 0])\n",
    "    grid[present[0], present[1]] = 1\n",
    "    while True:\n",
    "        d = np.random.choice([0, 1])\n",
    "        if present[0] + direction[d][0] >= m or present[1] + direction[d][1] >= n:\n",
    "            break\n",
    "        present[0] += direction[d][0]\n",
    "        present[1] += direction[d][1]\n",
    "        grid[present[0], present[1]] = 1\n",
    "        for i in range(8):\n",
    "            ni = present[0] + direction2[i][0]\n",
    "            nj = present[1] + direction2[i][1]\n",
    "            if ni < 0 or ni >= m or nj < 0 or nj >= n:\n",
    "                continue\n",
    "            grid[ni, nj] = 1\n",
    "\n",
    "    return grid, tuple(present)"
   ]
  },
  {
   "cell_type": "code",
   "execution_count": 170,
   "id": "e5b0028b",
   "metadata": {},
   "outputs": [],
   "source": [
    "grid = np.array([\n",
    "    [1, 1, 1, 0, 1, 1, 1, 1, 1, 1, 1, 0, 1, 1, 1],\n",
    "    [1, 1, 1, 0, 1, 1, 1, 1, 1, 1, 1, 0, 1, 1, 1],\n",
    "    [1, 1, 1, 0, 1, 1, 1, 0, 1, 1, 1, 0, 1, 1, 1],\n",
    "    [1, 1, 1, 0, 1, 1, 1, 0, 1, 1, 1, 0, 1, 1, 1],\n",
    "    [1, 1, 1, 0, 1, 1, 1, 0, 1, 1, 1, 1, 1, 1, 1],\n",
    "    [1, 1, 1, 0, 1, 1, 1, 0, 1, 1, 1, 1, 1, 1, 1],\n",
    "    [1, 1, 1, 1, 1, 1, 1, 0, 1, 1, 1, 1, 1, 1, 1],\n",
    "    [1, 1, 1, 1, 1, 1, 1, 0, 1, 1, 1, 1, 1, 1, 1],\n",
    "    [1, 1, 1, 0, 1, 1, 1, 0, 1, 1, 1, 0, 1, 1, 1],\n",
    "    [1, 1, 1, 0, 1, 1, 1, 0, 1, 1, 1, 0, 1, 1, 1],\n",
    "    [1, 1, 1, 0, 1, 1, 1, 0, 1, 1, 1, 0, 1, 1, 1],\n",
    "    [1, 1, 1, 0, 1, 1, 1, 0, 1, 1, 1, 0, 1, 1, 1],\n",
    "    [1, 1, 1, 0, 1, 1, 1, 1, 1, 1, 1, 0, 1, 1, 1],\n",
    "    [1, 1, 1, 0, 1, 1, 1, 1, 1, 1, 1, 0, 1, 1, 1],\n",
    "    [1, 1, 1, 0, 1, 1, 1, 0, 1, 1, 1, 0, 1, 1, 1]\n",
    "])"
   ]
  },
  {
   "cell_type": "code",
   "execution_count": 171,
   "id": "0e0e2cd9",
   "metadata": {},
   "outputs": [
    {
     "data": {
      "image/png": "[encoded data removed]",
      "text/plain": [
       "<Figure size 640x480 with 1 Axes>"
      ]
     },
     "metadata": {},
     "output_type": "display_data"
    }
   ],
   "source": [
    "size = (15, 15)\n",
    "#grid, goal = make_map(size)\n",
    "plt.imshow(grid, cmap='gray')\n",
    "plt.show()"
   ]
  },
  {
   "cell_type": "markdown",
   "id": "a4ae082c",
   "metadata": {},
   "source": [
    "# 2. A* Algorithm"
   ]
  },
  {
   "cell_type": "code",
   "execution_count": 173,
   "id": "e7d5dc42",
   "metadata": {},
   "outputs": [
    {
     "name": "stdout",
     "output_type": "stream",
     "text": [
      "Goal position: (14, 14)\n",
      "Path found with length: 25\n",
      "Number of Checking: 736\n"
     ]
    },
    {
     "data": {
      "image/png": "[encoded data removed]",
      "text/plain": [
       "<Figure size 640x480 with 1 Axes>"
      ]
     },
     "metadata": {},
     "output_type": "display_data"
    }
   ],
   "source": [
    "def heuristic(a, b):\n",
    "    # Manhattan distance\n",
    "    return abs(a[0] - b[0]) + abs(a[1] - b[1])\n",
    "\n",
    "def astar(grid, start, goal):\n",
    "    checking_point = set()\n",
    "    count = 0\n",
    "\n",
    "    m, n = grid.shape\n",
    "    # Allowed moves: 8-directional\n",
    "    directions = [(-1, 0), (1, 0), (0, -1), (0, 1),\n",
    "                  (-1, -1), (-1, 1), (1, -1), (1, 1)]\n",
    "    \n",
    "    open_set = []\n",
    "    heapq.heappush(open_set, (heuristic(start, goal), 0, start, [start]))\n",
    "    closed_set = set()\n",
    "\n",
    "    while open_set:\n",
    "        f, g, current, path = heapq.heappop(open_set)\n",
    "        if current == goal:\n",
    "            return path, count, checking_point\n",
    "        if current in closed_set:\n",
    "            continue\n",
    "        closed_set.add(current)\n",
    "        \n",
    "        for dr, dc in directions:\n",
    "            count = count + 1\n",
    "            nr, nc = current[0] + dr, current[1] + dc\n",
    "            neighbor = (nr, nc)\n",
    "            # Check boundaries and whether the cell is traversable (value 1)\n",
    "            if 0 <= nr < m and 0 <= nc < n and grid[nr, nc] == 1:\n",
    "                checking_point.add(neighbor)\n",
    "                if neighbor in closed_set:\n",
    "                    continue\n",
    "                new_cost = g + 1  # uniform cost for each move\n",
    "                heapq.heappush(open_set, (new_cost + heuristic(neighbor, goal),\n",
    "                                            new_cost, neighbor, path + [neighbor]))\n",
    "                \n",
    "    return None, count, checking_point # No path found\n",
    "\n",
    "def plot_path(grid, path, start, goal, checking_point):\n",
    "    m, n = grid.shape\n",
    "\n",
    "    checking_map = np.zeros_like(grid)\n",
    "\n",
    "    cmap = colors.ListedColormap(['black','white', 'orange'])\n",
    "\n",
    "    for point in checking_point:\n",
    "        checking_map[point[0],point[1]] = 1\n",
    "\n",
    "    plt.imshow(checking_map + grid, cmap = cmap)\n",
    "    if path:\n",
    "        path_rows = [p[0] for p in path]\n",
    "        path_cols = [p[1] for p in path]\n",
    "        plt.plot(path_cols, path_rows, color='red', linewidth=2, marker='o')\n",
    "    \n",
    "    plt.scatter([start[1], goal[1]], [start[0], goal[0]], color='blue', s=100)\n",
    "    plt.text(start[1], start[0], 'Start', color='black', fontsize=12,\n",
    "             verticalalignment='bottom', horizontalalignment='right')\n",
    "    plt.text(goal[1], goal[0], 'Goal', color='black', fontsize=12,\n",
    "             verticalalignment='bottom', horizontalalignment='left')\n",
    "    plt.axis('off')\n",
    "    plt.show()\n",
    "\n",
    "# Example usage:\n",
    "start = (0, 0)\n",
    "goal = (14,14)\n",
    "path, count, checking_point = astar(grid, start, goal)\n",
    "\n",
    "print(\"Goal position:\", goal)\n",
    "if path is not None:\n",
    "    print(\"Path found with length:\", len(path))\n",
    "else:\n",
    "    print(\"No path found.\")\n",
    "\n",
    "print(\"Number of Checking:\", count)\n",
    "plot_path(grid, path, start, goal, checking_point)"
   ]
  },
  {
   "cell_type": "code",
   "execution_count": 176,
   "id": "6615fab1",
   "metadata": {},
   "outputs": [
    {
     "name": "stdout",
     "output_type": "stream",
     "text": [
      "'IMEX Solver.ipynb'   data\t\t      nohup.out\n",
      " baseline.ipynb       diffusion_model.ipynb   super_resolution_output.png\n",
      " cifar10\t      models\n"
     ]
    }
   ],
   "source": [
    "!ls"
   ]
  },
  {
   "cell_type": "code",
   "execution_count": null,
   "id": "60e73b38",
   "metadata": {},
   "outputs": [],
   "source": []
  }
 ],
 "metadata": {
  "kernelspec": {
   "display_name": "Python 3 (ipykernel)",
   "language": "python",
   "name": "python3"
  },
  "language_info": {
   "codemirror_mode": {
    "name": "ipython",
    "version": 3
   },
   "file_extension": ".py",
   "mimetype": "text/x-python",
   "name": "python",
   "nbconvert_exporter": "python",
   "pygments_lexer": "ipython3",
   "version": "3.12.2"
  }
 },
 "nbformat": 4,
 "nbformat_minor": 5
}
