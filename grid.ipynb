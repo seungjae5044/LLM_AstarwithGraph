{
 "cells": [
  {
   "cell_type": "code",
   "execution_count": 47,
   "id": "f28303e0",
   "metadata": {},
   "outputs": [],
   "source": [
    "import numpy as np\n",
    "import heapq\n",
    "import matplotlib.pyplot as plt\n",
    "from matplotlib import colors"
   ]
  },
  {
   "cell_type": "markdown",
   "id": "fa88d5b3",
   "metadata": {},
   "source": [
    "# 1. Make map"
   ]
  },
  {
   "cell_type": "code",
   "execution_count": 48,
   "id": "af300691",
   "metadata": {},
   "outputs": [],
   "source": [
    "def make_map(size):\n",
    "    direction = np.array([[1, 0], [0, 1]])\n",
    "    direction2 = np.array([[1, 0], [0, 1], [-1, 0], [0, -1],\n",
    "                           [1, 1], [-1, 1], [1, -1], [-1, -1]])\n",
    "    m, n = size\n",
    "    grid = np.zeros((m, n), dtype=int)\n",
    "\n",
    "    present = np.array([0, 0])\n",
    "    grid[present[0], present[1]] = 1\n",
    "    while True:\n",
    "        d = np.random.choice([0, 1])\n",
    "        if present[0] + direction[d][0] >= m or present[1] + direction[d][1] >= n:\n",
    "            break\n",
    "        present[0] += direction[d][0]\n",
    "        present[1] += direction[d][1]\n",
    "        grid[present[0], present[1]] = 1\n",
    "        for i in range(8):\n",
    "            ni = present[0] + direction2[i][0]\n",
    "            nj = present[1] + direction2[i][1]\n",
    "            if ni < 0 or ni >= m or nj < 0 or nj >= n:\n",
    "                continue\n",
    "            grid[ni, nj] = 1\n",
    "\n",
    "    return grid, tuple(present)"
   ]
  },
  {
   "cell_type": "code",
   "execution_count": 49,
   "id": "e5b0028b",
   "metadata": {},
   "outputs": [],
   "source": [
    "grid = np.array([\n",
    "    [1, 1, 1, 0, 1, 1, 1, 1, 1, 1, 1, 0, 1, 1, 1],\n",
    "    [1, 1, 1, 0, 1, 1, 1, 1, 1, 1, 1, 0, 1, 1, 1],\n",
    "    [1, 1, 1, 0, 1, 1, 1, 0, 1, 1, 1, 0, 1, 1, 1],\n",
    "    [1, 1, 1, 0, 1, 1, 1, 0, 1, 1, 1, 0, 1, 1, 1],\n",
    "    [1, 1, 1, 0, 1, 1, 1, 0, 1, 1, 1, 1, 1, 1, 1],\n",
    "    [1, 1, 1, 0, 1, 1, 1, 0, 1, 1, 1, 1, 1, 1, 1],\n",
    "    [1, 1, 1, 1, 1, 1, 1, 0, 1, 1, 1, 1, 1, 1, 1],\n",
    "    [1, 1, 1, 1, 1, 1, 1, 0, 1, 1, 1, 1, 1, 1, 1],\n",
    "    [1, 1, 1, 0, 1, 1, 1, 0, 1, 1, 1, 0, 1, 1, 1],\n",
    "    [1, 1, 1, 0, 1, 1, 1, 0, 1, 1, 1, 0, 1, 1, 1],\n",
    "    [1, 1, 1, 0, 1, 1, 1, 0, 1, 1, 1, 0, 1, 1, 1],\n",
    "    [1, 1, 1, 0, 1, 1, 1, 0, 1, 1, 1, 0, 1, 1, 1],\n",
    "    [1, 1, 1, 0, 1, 1, 1, 1, 1, 1, 1, 0, 1, 1, 1],\n",
    "    [1, 1, 1, 0, 1, 1, 1, 1, 1, 1, 1, 0, 1, 1, 1],\n",
    "    [1, 1, 1, 0, 1, 1, 1, 0, 1, 1, 1, 0, 1, 1, 1]\n",
    "])"
   ]
  },
  {
   "cell_type": "code",
   "execution_count": 50,
   "id": "0e0e2cd9",
   "metadata": {},
   "outputs": [
    {
     "data": {
      "image/png": "[encoded data removed]",
      "text/plain": [
       "<Figure size 640x480 with 1 Axes>"
      ]
     },
     "metadata": {},
     "output_type": "display_data"
    }
   ],
   "source": [
    "size = (15, 15)\n",
    "#grid, goal = make_map(size)\n",
    "plt.imshow(grid, cmap='gray')\n",
    "plt.show()"
   ]
  },
  {
   "cell_type": "markdown",
   "id": "a4ae082c",
   "metadata": {},
   "source": [
    "# 2. A* Algorithm"
   ]
  },
  {
   "cell_type": "code",
   "execution_count": 60,
   "id": "e7d5dc42",
   "metadata": {},
   "outputs": [
    {
     "name": "stdout",
     "output_type": "stream",
     "text": [
      "Goal position: (14, 14)\n",
      "Path found with length: 25\n",
      "Number of Checking: 736\n"
     ]
    },
    {
     "data": {
      "image/png": "[encoded data removed]",
      "text/plain": [
       "<Figure size 640x480 with 1 Axes>"
      ]
     },
     "metadata": {},
     "output_type": "display_data"
    }
   ],
   "source": [
    "def heuristic(a, b):\n",
    "    # Manhattan distance\n",
    "    return abs(a[0] - b[0]) + abs(a[1] - b[1])\n",
    "\n",
    "def astar(grid, start, goal):\n",
    "    checking_points = set()\n",
    "    count = 0\n",
    "\n",
    "    m, n = grid.shape\n",
    "    # Allowed moves: 8-directional\n",
    "    directions = [(-1, 0), (1, 0), (0, -1), (0, 1),\n",
    "                  (-1, -1), (-1, 1), (1, -1), (1, 1)]\n",
    "    \n",
    "    open_set = []\n",
    "    heapq.heappush(open_set, (heuristic(start, goal), 0, start, [start]))\n",
    "    closed_set = set()\n",
    "\n",
    "    while open_set:\n",
    "        f, g, current, path = heapq.heappop(open_set)\n",
    "        if current == goal:\n",
    "            return path, count, checking_points\n",
    "        if current in closed_set:\n",
    "            continue\n",
    "        closed_set.add(current)\n",
    "        \n",
    "        for dr, dc in directions:\n",
    "            count = count + 1\n",
    "            nr, nc = current[0] + dr, current[1] + dc\n",
    "            neighbor = (nr, nc)\n",
    "            # Check boundaries and whether the cell is traversable (value 1)\n",
    "            if 0 <= nr < m and 0 <= nc < n and grid[nr, nc] == 1:\n",
    "                checking_points.add(neighbor)\n",
    "                if neighbor in closed_set:\n",
    "                    continue\n",
    "                new_cost = g + 1  # uniform cost for each move\n",
    "                heapq.heappush(open_set, (new_cost + heuristic(neighbor, goal),\n",
    "                                            new_cost, neighbor, path + [neighbor]))\n",
    "                \n",
    "    return None, count, checking_points # No path found\n",
    "\n",
    "def plot_path(grid, path, start, goal, checking_points, llm_points = None):\n",
    "    m, n = grid.shape\n",
    "\n",
    "    checking_map = np.zeros_like(grid)\n",
    "\n",
    "    cmap = colors.ListedColormap(['black','white', 'orange'])\n",
    "\n",
    "    for point in checking_points:\n",
    "        checking_map[point[0],point[1]] = 1\n",
    "\n",
    "    plt.imshow(checking_map + grid, cmap = cmap)\n",
    "    if path:\n",
    "        path_rows = [p[0] for p in path]\n",
    "        path_cols = [p[1] for p in path]\n",
    "        plt.plot(path_cols, path_rows, color='red', linewidth=2, marker='o')\n",
    "    \n",
    "    \n",
    "    plt.scatter([start[1], goal[1]], [start[0], goal[0]], color='blue', s=100)\n",
    "    plt.text(start[1], start[0], 'Start', color='black', fontsize=12,\n",
    "             verticalalignment='bottom', horizontalalignment='right')\n",
    "    plt.text(goal[1], goal[0], 'Goal', color='black', fontsize=12,\n",
    "             verticalalignment='bottom', horizontalalignment='left')\n",
    "    if llm_points is not None:\n",
    "        llm_points = np.array(llm_points)\n",
    "        plt.scatter(llm_points[:,1], llm_points[:,0], color='yellow', s=100)\n",
    "    plt.axis('off')\n",
    "    plt.show()\n",
    "\n",
    "# Example usage:\n",
    "start = (0, 0)\n",
    "goal = (14,14)\n",
    "path, count, checking_points = astar(grid, start, goal)\n",
    "\n",
    "print(\"Goal position:\", goal)\n",
    "if path is not None:\n",
    "    print(\"Path found with length:\", len(path))\n",
    "else:\n",
    "    print(\"No path found.\")\n",
    "\n",
    "print(\"Number of Checking:\", count)\n",
    "plot_path(grid, path, start, goal, checking_points)"
   ]
  },
  {
   "cell_type": "markdown",
   "id": "84aa625b",
   "metadata": {},
   "source": [
    "# 3. LLM A* Algorithm"
   ]
  },
  {
   "cell_type": "code",
   "execution_count": 76,
   "id": "6615fab1",
   "metadata": {},
   "outputs": [],
   "source": [
    "def llm_astar(grid, start, goal, llm_points):\n",
    "\n",
    "    m, n = grid.shape\n",
    "    # Allowed moves: 8-directional\n",
    "    directions = [(-1, 0), (1, 0), (0, -1), (0, 1),\n",
    "                  (-1, -1), (-1, 1), (1, -1), (1, 1)]\n",
    "    \n",
    "    points = llm_points.copy()\n",
    "    points.insert(0, start)\n",
    "    points.append(goal)\n",
    "\n",
    "    path = []\n",
    "    checking_point = set()\n",
    "    count = 0\n",
    "\n",
    "    for i in range(len(points)-1):\n",
    "        s = points[i]\n",
    "        e = points[i+1]\n",
    "\n",
    "        open_set = []\n",
    "        heapq.heappush(open_set, (heuristic(s, e), 0, s, [s]))\n",
    "        closed_set = set()\n",
    "\n",
    "        while open_set:\n",
    "            f, g, current, p = heapq.heappop(open_set)\n",
    "            if current == e:\n",
    "                path += p\n",
    "                break\n",
    "            if current in closed_set:\n",
    "                continue\n",
    "            closed_set.add(current)\n",
    "            \n",
    "            for dr, dc in directions:\n",
    "                count = count + 1\n",
    "                nr, nc = current[0] + dr, current[1] + dc\n",
    "                neighbor = (nr, nc)\n",
    "                # Check boundaries and whether the cell is traversable (value 1)\n",
    "                if 0 <= nr < m and 0 <= nc < n and grid[nr, nc] == 1:\n",
    "                    checking_point.add(neighbor)\n",
    "                    if neighbor in closed_set:\n",
    "                        continue\n",
    "                    new_cost = g + 1  # uniform cost for each move\n",
    "                    heapq.heappush(open_set, (new_cost + heuristic(neighbor, e),\n",
    "                                                new_cost, neighbor, p + [neighbor]))\n",
    "                    \n",
    "    return path, count, checking_point"
   ]
  },
  {
   "cell_type": "markdown",
   "id": "0303832a",
   "metadata": {},
   "source": [
    "### LLM points 1 : (7,8)"
   ]
  },
  {
   "cell_type": "code",
   "execution_count": 85,
   "id": "98a7f7b6",
   "metadata": {},
   "outputs": [
    {
     "name": "stdout",
     "output_type": "stream",
     "text": [
      "Goal position: (14, 14)\n",
      "Path found with length: 29\n",
      "Number of Checking: 720\n"
     ]
    },
    {
     "data": {
      "image/png": "[encoded data removed]",
      "text/plain": [
       "<Figure size 640x480 with 1 Axes>"
      ]
     },
     "metadata": {},
     "output_type": "display_data"
    }
   ],
   "source": [
    "llm_points = [(7,8)]\n",
    "start = (0, 0)\n",
    "goal = (14,14)\n",
    "path, count, checking_points = llm_astar(grid, start, goal, llm_points)\n",
    "\n",
    "print(\"Goal position:\", goal)\n",
    "if path is not None:\n",
    "    print(\"Path found with length:\", len(path))\n",
    "else:\n",
    "    print(\"No path found.\")\n",
    "\n",
    "print(\"Number of Checking:\", count)\n",
    "plot_path(grid, path, start, goal, checking_points, llm_points)\n"
   ]
  },
  {
   "cell_type": "markdown",
   "id": "d11732e8",
   "metadata": {},
   "source": [
    "### LLM points 3 : (9, 4), (12, 7), (7, 8)"
   ]
  },
  {
   "cell_type": "code",
   "execution_count": 89,
   "id": "6a20fff4",
   "metadata": {},
   "outputs": [
    {
     "name": "stdout",
     "output_type": "stream",
     "text": [
      "Goal position: (14, 14)\n",
      "Path found with length: 31\n",
      "Number of Checking: 344\n"
     ]
    },
    {
     "data": {
      "image/png": "[encoded data removed]",
      "text/plain": [
       "<Figure size 640x480 with 1 Axes>"
      ]
     },
     "metadata": {},
     "output_type": "display_data"
    }
   ],
   "source": [
    "llm_points = [(9, 4), (12, 7), (7, 8)]\n",
    "start = (0, 0)\n",
    "goal = (14,14)\n",
    "path, count, checking_points = llm_astar(grid, start, goal, llm_points)\n",
    "\n",
    "print(\"Goal position:\", goal)\n",
    "if path is not None:\n",
    "    print(\"Path found with length:\", len(path))\n",
    "else:\n",
    "    print(\"No path found.\")\n",
    "\n",
    "print(\"Number of Checking:\", count)\n",
    "plot_path(grid, path, start, goal, checking_points, llm_points)\n"
   ]
  },
  {
   "cell_type": "markdown",
   "id": "6703d9fc",
   "metadata": {},
   "source": [
    "### LLM points 5 : (6,0), (9,4), (12,7), (7,9), (10,12)"
   ]
  },
  {
   "cell_type": "code",
   "execution_count": 90,
   "id": "11a33f94",
   "metadata": {},
   "outputs": [
    {
     "name": "stdout",
     "output_type": "stream",
     "text": [
      "Goal position: (14, 14)\n",
      "Path found with length: 34\n",
      "Number of Checking: 280\n"
     ]
    },
    {
     "data": {
      "image/png": "[encoded data removed]",
      "text/plain": [
       "<Figure size 640x480 with 1 Axes>"
      ]
     },
     "metadata": {},
     "output_type": "display_data"
    }
   ],
   "source": [
    "llm_points = [(6,0), (9,4), (12,7), (7,9), (10,12)]\n",
    "start = (0, 0)\n",
    "goal = (14,14)\n",
    "path, count, checking_points = llm_astar(grid, start, goal, llm_points)\n",
    "\n",
    "print(\"Goal position:\", goal)\n",
    "if path is not None:\n",
    "    print(\"Path found with length:\", len(path))\n",
    "else:\n",
    "    print(\"No path found.\")\n",
    "\n",
    "print(\"Number of Checking:\", count)\n",
    "plot_path(grid, path, start, goal, checking_points, llm_points)\n"
   ]
  },
  {
   "cell_type": "markdown",
   "id": "3df9e6dd",
   "metadata": {},
   "source": [
    "### LLM points 7 : (4,0), (7,2), (10,4), (12,7), (8,8), (7,12), (12,12)"
   ]
  },
  {
   "cell_type": "code",
   "execution_count": 92,
   "id": "af9b55e1",
   "metadata": {},
   "outputs": [
    {
     "name": "stdout",
     "output_type": "stream",
     "text": [
      "Goal position: (14, 14)\n",
      "Path found with length: 37\n",
      "Number of Checking: 232\n"
     ]
    },
    {
     "data": {
      "image/png": "[encoded data removed]",
      "text/plain": [
       "<Figure size 640x480 with 1 Axes>"
      ]
     },
     "metadata": {},
     "output_type": "display_data"
    }
   ],
   "source": [
    "llm_points = [(4,0), (7,2), (10,4), (12,7), (8,8), (7,12), (12,12)]\n",
    "start = (0, 0)\n",
    "goal = (14,14)\n",
    "path, count, checking_points = llm_astar(grid, start, goal, llm_points)\n",
    "\n",
    "print(\"Goal position:\", goal)\n",
    "if path is not None:\n",
    "    print(\"Path found with length:\", len(path))\n",
    "else:\n",
    "    print(\"No path found.\")\n",
    "\n",
    "print(\"Number of Checking:\", count)\n",
    "plot_path(grid, path, start, goal, checking_points, llm_points)\n"
   ]
  },
  {
   "cell_type": "markdown",
   "id": "5d5f1c0d",
   "metadata": {},
   "source": [
    "### LLM points 11 : (3, 0), (6, 0), (7, 2), (9, 4), (12, 4), (12, 7), (10, 8), (7, 9), (7, 12), (10, 12), (13, 12)"
   ]
  },
  {
   "cell_type": "code",
   "execution_count": 96,
   "id": "5538cb21",
   "metadata": {},
   "outputs": [
    {
     "name": "stdout",
     "output_type": "stream",
     "text": [
      "Goal position: (14, 14)\n",
      "Path found with length: 45\n",
      "Number of Checking: 264\n"
     ]
    },
    {
     "data": {
      "image/png": "[encoded data removed]",
      "text/plain": [
       "<Figure size 640x480 with 1 Axes>"
      ]
     },
     "metadata": {},
     "output_type": "display_data"
    }
   ],
   "source": [
    "llm_points = [(3, 0), (6, 0), (7, 2), (9, 4), (12, 4), (12, 7), (10, 8), (7, 9), (7, 12), (10, 12), (13, 12)]\n",
    "start = (0, 0)\n",
    "goal = (14,14)\n",
    "path, count, checking_points = llm_astar(grid, start, goal, llm_points)\n",
    "\n",
    "print(\"Goal position:\", goal)\n",
    "if path is not None:\n",
    "    print(\"Path found with length:\", len(path))\n",
    "else:\n",
    "    print(\"No path found.\")\n",
    "\n",
    "print(\"Number of Checking:\", count)\n",
    "plot_path(grid, path, start, goal, checking_points, llm_points)\n"
   ]
  },
  {
   "cell_type": "code",
   "execution_count": null,
   "id": "479024d2",
   "metadata": {},
   "outputs": [],
   "source": []
  }
 ],
 "metadata": {
  "kernelspec": {
   "display_name": "base",
   "language": "python",
   "name": "python3"
  },
  "language_info": {
   "codemirror_mode": {
    "name": "ipython",
    "version": 3
   },
   "file_extension": ".py",
   "mimetype": "text/x-python",
   "name": "python",
   "nbconvert_exporter": "python",
   "pygments_lexer": "ipython3",
   "version": "3.12.2"
  }
 },
 "nbformat": 4,
 "nbformat_minor": 5
}
